{
  "nbformat": 4,
  "nbformat_minor": 0,
  "metadata": {
    "colab": {
      "name": "transaction_timeseries_forecast_model.ipynb",
      "provenance": [],
      "authorship_tag": "ABX9TyPMNq8zVY99dcrv0EVN0Fbo"
    },
    "kernelspec": {
      "name": "python3",
      "display_name": "Python 3"
    }
  },
  "cells": [
    {
      "cell_type": "code",
      "metadata": {
        "id": "UgF55ei-zorw"
      },
      "source": [
        "import pandas as pd\r\n",
        "import numpy as np\r\n",
        "import os\r\n",
        "from google.colab import drive"
      ],
      "execution_count": 1,
      "outputs": []
    },
    {
      "cell_type": "code",
      "metadata": {
        "id": "g2HfB67v0VMc"
      },
      "source": [
        "%matplotlib inline\r\n",
        "import matplotlib\r\n",
        "import matplotlib.pyplot as plt"
      ],
      "execution_count": 2,
      "outputs": []
    },
    {
      "cell_type": "code",
      "metadata": {
        "id": "F5GSvjCU0XKr"
      },
      "source": [
        "# Mount the drive and move the specific folder path\r\n",
        "drive.mount('/content/drive')\r\n",
        "os.chdir(\"drive/My Drive/Colab Notebooks/\")\r\n",
        "os.listdir()"
      ],
      "execution_count": null,
      "outputs": []
    },
    {
      "cell_type": "code",
      "metadata": {
        "colab": {
          "base_uri": "https://localhost:8080/"
        },
        "id": "1KXeW02Q0a5S",
        "outputId": "eed774b4-b2df-4b3f-c810-c9fc1cbec1fd"
      },
      "source": [
        "df = pd.read_csv(\"bh_data.txt\",delimiter=',')\r\n",
        "df.columns=['Date', 'Transactions']\r\n",
        "df['Date'] = pd.to_datetime(df['Date'])\r\n",
        "df.set_index('Date', inplace=True) #set date as index\r\n",
        "df.index"
      ],
      "execution_count": 4,
      "outputs": [
        {
          "output_type": "execute_result",
          "data": {
            "text/plain": [
              "DatetimeIndex(['2016-01-01', '2016-02-01', '2016-03-01', '2016-04-01',\n",
              "               '2016-05-01', '2016-06-01', '2016-07-01', '2016-08-01',\n",
              "               '2016-09-01', '2016-10-01',\n",
              "               ...\n",
              "               '2019-06-29', '2019-06-30', '2019-01-07', '2019-02-07',\n",
              "               '2019-03-07', '2019-04-07', '2019-05-07', '2019-06-07',\n",
              "               '2019-07-07', '2019-08-07'],\n",
              "              dtype='datetime64[ns]', name='Date', length=1285, freq=None)"
            ]
          },
          "metadata": {
            "tags": []
          },
          "execution_count": 4
        }
      ]
    },
    {
      "cell_type": "code",
      "metadata": {
        "colab": {
          "base_uri": "https://localhost:8080/",
          "height": 235
        },
        "id": "1kUyLnRA09av",
        "outputId": "d5d94065-a946-4350-b400-28f03d4bda1f"
      },
      "source": [
        "ts = df['2016-01-01':'2018-12-31'].resample('M').sum()\r\n",
        "ts.tail()"
      ],
      "execution_count": 5,
      "outputs": [
        {
          "output_type": "execute_result",
          "data": {
            "text/html": [
              "<div>\n",
              "<style scoped>\n",
              "    .dataframe tbody tr th:only-of-type {\n",
              "        vertical-align: middle;\n",
              "    }\n",
              "\n",
              "    .dataframe tbody tr th {\n",
              "        vertical-align: top;\n",
              "    }\n",
              "\n",
              "    .dataframe thead th {\n",
              "        text-align: right;\n",
              "    }\n",
              "</style>\n",
              "<table border=\"1\" class=\"dataframe\">\n",
              "  <thead>\n",
              "    <tr style=\"text-align: right;\">\n",
              "      <th></th>\n",
              "      <th>Transactions</th>\n",
              "    </tr>\n",
              "    <tr>\n",
              "      <th>Date</th>\n",
              "      <th></th>\n",
              "    </tr>\n",
              "  </thead>\n",
              "  <tbody>\n",
              "    <tr>\n",
              "      <th>2018-08-31</th>\n",
              "      <td>69479800</td>\n",
              "    </tr>\n",
              "    <tr>\n",
              "      <th>2018-09-30</th>\n",
              "      <td>67675150</td>\n",
              "    </tr>\n",
              "    <tr>\n",
              "      <th>2018-10-31</th>\n",
              "      <td>71196900</td>\n",
              "    </tr>\n",
              "    <tr>\n",
              "      <th>2018-11-30</th>\n",
              "      <td>81078151</td>\n",
              "    </tr>\n",
              "    <tr>\n",
              "      <th>2018-12-31</th>\n",
              "      <td>173976486</td>\n",
              "    </tr>\n",
              "  </tbody>\n",
              "</table>\n",
              "</div>"
            ],
            "text/plain": [
              "            Transactions\n",
              "Date                    \n",
              "2018-08-31      69479800\n",
              "2018-09-30      67675150\n",
              "2018-10-31      71196900\n",
              "2018-11-30      81078151\n",
              "2018-12-31     173976486"
            ]
          },
          "metadata": {
            "tags": []
          },
          "execution_count": 5
        }
      ]
    },
    {
      "cell_type": "code",
      "metadata": {
        "id": "6a23yINj2vQ6"
      },
      "source": [
        "!pip install pmdarima"
      ],
      "execution_count": null,
      "outputs": []
    },
    {
      "cell_type": "code",
      "metadata": {
        "colab": {
          "base_uri": "https://localhost:8080/",
          "height": 759
        },
        "id": "OBxvv5qY0osH",
        "outputId": "f96bb61d-a0ac-4ae2-f38c-cd4e11828762"
      },
      "source": [
        "# Import the library \r\n",
        "from pmdarima import auto_arima \r\n",
        "  \r\n",
        "# Ignore harmless warnings \r\n",
        "import warnings \r\n",
        "warnings.filterwarnings(\"ignore\") \r\n",
        "  \r\n",
        "# Fit auto_arima function to gift card transaction dataset \r\n",
        "stepwise_fit = auto_arima(ts['Transactions'], start_p = 1, start_q = 1, \r\n",
        "                          max_p = 3, max_q = 3, m = 12, \r\n",
        "                          start_P = 0, seasonal = True, \r\n",
        "                          d = None, D = 1, trace = True, \r\n",
        "                          error_action ='ignore',   # we don't want to know if an order does not work \r\n",
        "                          suppress_warnings = True,  # we don't want convergence warnings \r\n",
        "                          stepwise = True)           # set to stepwise \r\n",
        "  \r\n",
        "# To print the summary \r\n",
        "stepwise_fit.summary() "
      ],
      "execution_count": 7,
      "outputs": [
        {
          "output_type": "stream",
          "text": [
            "Performing stepwise search to minimize aic\n",
            " ARIMA(1,1,1)(0,1,1)[12]             : AIC=778.058, Time=0.42 sec\n",
            " ARIMA(0,1,0)(0,1,0)[12]             : AIC=789.686, Time=0.02 sec\n",
            " ARIMA(1,1,0)(1,1,0)[12]             : AIC=773.766, Time=0.11 sec\n",
            " ARIMA(0,1,1)(0,1,1)[12]             : AIC=776.793, Time=0.10 sec\n",
            " ARIMA(1,1,0)(0,1,0)[12]             : AIC=788.997, Time=0.03 sec\n",
            " ARIMA(1,1,0)(2,1,0)[12]             : AIC=772.101, Time=0.20 sec\n",
            " ARIMA(1,1,0)(2,1,1)[12]             : AIC=774.101, Time=0.91 sec\n",
            " ARIMA(1,1,0)(1,1,1)[12]             : AIC=772.241, Time=0.17 sec\n",
            " ARIMA(0,1,0)(2,1,0)[12]             : AIC=771.429, Time=0.13 sec\n",
            " ARIMA(0,1,0)(1,1,0)[12]             : AIC=762.392, Time=0.05 sec\n",
            " ARIMA(0,1,0)(1,1,1)[12]             : AIC=770.742, Time=0.20 sec\n",
            " ARIMA(0,1,0)(0,1,1)[12]             : AIC=773.708, Time=0.04 sec\n",
            " ARIMA(0,1,0)(2,1,1)[12]             : AIC=772.614, Time=0.56 sec\n",
            " ARIMA(0,1,1)(1,1,0)[12]             : AIC=775.332, Time=0.10 sec\n",
            " ARIMA(1,1,1)(1,1,0)[12]             : AIC=776.635, Time=0.38 sec\n",
            " ARIMA(0,1,0)(1,1,0)[12] intercept   : AIC=774.001, Time=0.08 sec\n",
            "\n",
            "Best model:  ARIMA(0,1,0)(1,1,0)[12]          \n",
            "Total fit time: 3.535 seconds\n"
          ],
          "name": "stdout"
        },
        {
          "output_type": "execute_result",
          "data": {
            "text/html": [
              "<table class=\"simpletable\">\n",
              "<caption>SARIMAX Results</caption>\n",
              "<tr>\n",
              "  <th>Dep. Variable:</th>                  <td>y</td>               <th>  No. Observations:  </th>    <td>36</td>   \n",
              "</tr>\n",
              "<tr>\n",
              "  <th>Model:</th>           <td>SARIMAX(0, 1, 0)x(1, 1, 0, 12)</td> <th>  Log Likelihood     </th> <td>-379.196</td>\n",
              "</tr>\n",
              "<tr>\n",
              "  <th>Date:</th>                   <td>Sun, 31 Jan 2021</td>        <th>  AIC                </th>  <td>762.392</td>\n",
              "</tr>\n",
              "<tr>\n",
              "  <th>Time:</th>                       <td>17:15:35</td>            <th>  BIC                </th>  <td>764.663</td>\n",
              "</tr>\n",
              "<tr>\n",
              "  <th>Sample:</th>                         <td>0</td>               <th>  HQIC               </th>  <td>762.963</td>\n",
              "</tr>\n",
              "<tr>\n",
              "  <th></th>                              <td> - 36</td>             <th>                     </th>     <td> </td>   \n",
              "</tr>\n",
              "<tr>\n",
              "  <th>Covariance Type:</th>               <td>opg</td>              <th>                     </th>     <td> </td>   \n",
              "</tr>\n",
              "</table>\n",
              "<table class=\"simpletable\">\n",
              "<tr>\n",
              "      <td></td>        <th>coef</th>     <th>std err</th>      <th>z</th>      <th>P>|z|</th>  <th>[0.025</th>    <th>0.975]</th>  \n",
              "</tr>\n",
              "<tr>\n",
              "  <th>ar.S.L12</th> <td>    0.1864</td> <td>    0.032</td> <td>    5.753</td> <td> 0.000</td> <td>    0.123</td> <td>    0.250</td>\n",
              "</tr>\n",
              "<tr>\n",
              "  <th>sigma2</th>   <td> 1.371e+13</td> <td> 1.07e-16</td> <td> 1.29e+29</td> <td> 0.000</td> <td> 1.37e+13</td> <td> 1.37e+13</td>\n",
              "</tr>\n",
              "</table>\n",
              "<table class=\"simpletable\">\n",
              "<tr>\n",
              "  <th>Ljung-Box (L1) (Q):</th>     <td>0.96</td>  <th>  Jarque-Bera (JB):  </th> <td>8.16</td>\n",
              "</tr>\n",
              "<tr>\n",
              "  <th>Prob(Q):</th>                <td>0.33</td>  <th>  Prob(JB):          </th> <td>0.02</td>\n",
              "</tr>\n",
              "<tr>\n",
              "  <th>Heteroskedasticity (H):</th> <td>16.69</td> <th>  Skew:              </th> <td>0.04</td>\n",
              "</tr>\n",
              "<tr>\n",
              "  <th>Prob(H) (two-sided):</th>    <td>0.00</td>  <th>  Kurtosis:          </th> <td>5.92</td>\n",
              "</tr>\n",
              "</table><br/><br/>Warnings:<br/>[1] Covariance matrix calculated using the outer product of gradients (complex-step).<br/>[2] Covariance matrix is singular or near-singular, with condition number 7.32e+44. Standard errors may be unstable."
            ],
            "text/plain": [
              "<class 'statsmodels.iolib.summary.Summary'>\n",
              "\"\"\"\n",
              "                                     SARIMAX Results                                      \n",
              "==========================================================================================\n",
              "Dep. Variable:                                  y   No. Observations:                   36\n",
              "Model:             SARIMAX(0, 1, 0)x(1, 1, 0, 12)   Log Likelihood                -379.196\n",
              "Date:                            Sun, 31 Jan 2021   AIC                            762.392\n",
              "Time:                                    17:15:35   BIC                            764.663\n",
              "Sample:                                         0   HQIC                           762.963\n",
              "                                             - 36                                         \n",
              "Covariance Type:                              opg                                         \n",
              "==============================================================================\n",
              "                 coef    std err          z      P>|z|      [0.025      0.975]\n",
              "------------------------------------------------------------------------------\n",
              "ar.S.L12       0.1864      0.032      5.753      0.000       0.123       0.250\n",
              "sigma2      1.371e+13   1.07e-16   1.29e+29      0.000    1.37e+13    1.37e+13\n",
              "===================================================================================\n",
              "Ljung-Box (L1) (Q):                   0.96   Jarque-Bera (JB):                 8.16\n",
              "Prob(Q):                              0.33   Prob(JB):                         0.02\n",
              "Heteroskedasticity (H):              16.69   Skew:                             0.04\n",
              "Prob(H) (two-sided):                  0.00   Kurtosis:                         5.92\n",
              "===================================================================================\n",
              "\n",
              "Warnings:\n",
              "[1] Covariance matrix calculated using the outer product of gradients (complex-step).\n",
              "[2] Covariance matrix is singular or near-singular, with condition number 7.32e+44. Standard errors may be unstable.\n",
              "\"\"\""
            ]
          },
          "metadata": {
            "tags": []
          },
          "execution_count": 7
        }
      ]
    },
    {
      "cell_type": "code",
      "metadata": {
        "colab": {
          "base_uri": "https://localhost:8080/",
          "height": 419
        },
        "id": "hb2H5Tw90zTs",
        "outputId": "f7898ac7-3ad2-4515-8734-25e65bda625b"
      },
      "source": [
        "# Fit a SARIMAX(0, 1, 0)x(1, 1, 0, 12) on the training set \r\n",
        "from statsmodels.tsa.statespace.sarimax import SARIMAX \r\n",
        "  \r\n",
        "model = SARIMAX(ts['Transactions'],  \r\n",
        "                order = (0, 1, 0),  \r\n",
        "                seasonal_order =(1, 1, 0, 12)) \r\n",
        "  \r\n",
        "result = model.fit() \r\n",
        "result.summary()"
      ],
      "execution_count": 8,
      "outputs": [
        {
          "output_type": "execute_result",
          "data": {
            "text/html": [
              "<table class=\"simpletable\">\n",
              "<caption>SARIMAX Results</caption>\n",
              "<tr>\n",
              "  <th>Dep. Variable:</th>            <td>Transactions</td>          <th>  No. Observations:  </th>    <td>36</td>   \n",
              "</tr>\n",
              "<tr>\n",
              "  <th>Model:</th>           <td>SARIMAX(0, 1, 0)x(1, 1, 0, 12)</td> <th>  Log Likelihood     </th> <td>-379.196</td>\n",
              "</tr>\n",
              "<tr>\n",
              "  <th>Date:</th>                   <td>Sun, 31 Jan 2021</td>        <th>  AIC                </th>  <td>762.392</td>\n",
              "</tr>\n",
              "<tr>\n",
              "  <th>Time:</th>                       <td>17:15:41</td>            <th>  BIC                </th>  <td>764.663</td>\n",
              "</tr>\n",
              "<tr>\n",
              "  <th>Sample:</th>                    <td>01-31-2016</td>           <th>  HQIC               </th>  <td>762.963</td>\n",
              "</tr>\n",
              "<tr>\n",
              "  <th></th>                          <td>- 12-31-2018</td>          <th>                     </th>     <td> </td>   \n",
              "</tr>\n",
              "<tr>\n",
              "  <th>Covariance Type:</th>               <td>opg</td>              <th>                     </th>     <td> </td>   \n",
              "</tr>\n",
              "</table>\n",
              "<table class=\"simpletable\">\n",
              "<tr>\n",
              "      <td></td>        <th>coef</th>     <th>std err</th>      <th>z</th>      <th>P>|z|</th>  <th>[0.025</th>    <th>0.975]</th>  \n",
              "</tr>\n",
              "<tr>\n",
              "  <th>ar.S.L12</th> <td>    0.1864</td> <td>    0.032</td> <td>    5.753</td> <td> 0.000</td> <td>    0.123</td> <td>    0.250</td>\n",
              "</tr>\n",
              "<tr>\n",
              "  <th>sigma2</th>   <td> 1.371e+13</td> <td> 1.07e-16</td> <td> 1.29e+29</td> <td> 0.000</td> <td> 1.37e+13</td> <td> 1.37e+13</td>\n",
              "</tr>\n",
              "</table>\n",
              "<table class=\"simpletable\">\n",
              "<tr>\n",
              "  <th>Ljung-Box (L1) (Q):</th>     <td>0.96</td>  <th>  Jarque-Bera (JB):  </th> <td>8.16</td>\n",
              "</tr>\n",
              "<tr>\n",
              "  <th>Prob(Q):</th>                <td>0.33</td>  <th>  Prob(JB):          </th> <td>0.02</td>\n",
              "</tr>\n",
              "<tr>\n",
              "  <th>Heteroskedasticity (H):</th> <td>16.69</td> <th>  Skew:              </th> <td>0.04</td>\n",
              "</tr>\n",
              "<tr>\n",
              "  <th>Prob(H) (two-sided):</th>    <td>0.00</td>  <th>  Kurtosis:          </th> <td>5.92</td>\n",
              "</tr>\n",
              "</table><br/><br/>Warnings:<br/>[1] Covariance matrix calculated using the outer product of gradients (complex-step).<br/>[2] Covariance matrix is singular or near-singular, with condition number 7.32e+44. Standard errors may be unstable."
            ],
            "text/plain": [
              "<class 'statsmodels.iolib.summary.Summary'>\n",
              "\"\"\"\n",
              "                                     SARIMAX Results                                      \n",
              "==========================================================================================\n",
              "Dep. Variable:                       Transactions   No. Observations:                   36\n",
              "Model:             SARIMAX(0, 1, 0)x(1, 1, 0, 12)   Log Likelihood                -379.196\n",
              "Date:                            Sun, 31 Jan 2021   AIC                            762.392\n",
              "Time:                                    17:15:41   BIC                            764.663\n",
              "Sample:                                01-31-2016   HQIC                           762.963\n",
              "                                     - 12-31-2018                                         \n",
              "Covariance Type:                              opg                                         \n",
              "==============================================================================\n",
              "                 coef    std err          z      P>|z|      [0.025      0.975]\n",
              "------------------------------------------------------------------------------\n",
              "ar.S.L12       0.1864      0.032      5.753      0.000       0.123       0.250\n",
              "sigma2      1.371e+13   1.07e-16   1.29e+29      0.000    1.37e+13    1.37e+13\n",
              "===================================================================================\n",
              "Ljung-Box (L1) (Q):                   0.96   Jarque-Bera (JB):                 8.16\n",
              "Prob(Q):                              0.33   Prob(JB):                         0.02\n",
              "Heteroskedasticity (H):              16.69   Skew:                             0.04\n",
              "Prob(H) (two-sided):                  0.00   Kurtosis:                         5.92\n",
              "===================================================================================\n",
              "\n",
              "Warnings:\n",
              "[1] Covariance matrix calculated using the outer product of gradients (complex-step).\n",
              "[2] Covariance matrix is singular or near-singular, with condition number 7.32e+44. Standard errors may be unstable.\n",
              "\"\"\""
            ]
          },
          "metadata": {
            "tags": []
          },
          "execution_count": 8
        }
      ]
    },
    {
      "cell_type": "code",
      "metadata": {
        "colab": {
          "base_uri": "https://localhost:8080/",
          "height": 974
        },
        "id": "-KtIDsDz2b17",
        "outputId": "5508c8ae-c465-4a33-a61a-c199beccd430"
      },
      "source": [
        "# Forecast for the next 3 years \r\n",
        "forecast = result.predict(start = len(ts),  \r\n",
        "                          end = (len(ts)-1) + 3 * 12,  \r\n",
        "                          typ = 'levels').rename('Forecast') \r\n",
        "  \r\n",
        "# Plot the forecast values \r\n",
        "ts['Transactions'].plot(figsize = (12, 5), legend = True) \r\n",
        "forecast.plot(legend = True)\r\n",
        "\r\n",
        "print(forecast)"
      ],
      "execution_count": 9,
      "outputs": [
        {
          "output_type": "stream",
          "text": [
            "2019-01-31    9.222372e+07\n",
            "2019-02-28    8.618635e+07\n",
            "2019-03-31    9.717476e+07\n",
            "2019-04-30    8.709705e+07\n",
            "2019-05-31    9.208346e+07\n",
            "2019-06-30    9.596084e+07\n",
            "2019-07-31    9.015170e+07\n",
            "2019-08-31    9.185977e+07\n",
            "2019-09-30    8.974619e+07\n",
            "2019-10-31    9.349320e+07\n",
            "2019-11-30    1.034998e+08\n",
            "2019-12-31    1.989069e+08\n",
            "2020-01-31    1.165141e+08\n",
            "2020-02-29    1.105321e+08\n",
            "2020-03-31    1.217132e+08\n",
            "2020-04-30    1.113800e+08\n",
            "2020-05-31    1.164599e+08\n",
            "2020-06-30    1.204123e+08\n",
            "2020-07-31    1.144447e+08\n",
            "2020-08-31    1.161713e+08\n",
            "2020-09-30    1.140001e+08\n",
            "2020-10-31    1.177891e+08\n",
            "2020-11-30    1.278191e+08\n",
            "2020-12-31    2.236939e+08\n",
            "2021-01-31    1.411817e+08\n",
            "2021-02-28    1.352101e+08\n",
            "2021-03-31    1.464271e+08\n",
            "2021-04-30    1.360463e+08\n",
            "2021-05-31    1.411436e+08\n",
            "2021-06-30    1.451100e+08\n",
            "2021-07-31    1.391128e+08\n",
            "2021-08-31    1.408429e+08\n",
            "2021-09-30    1.386610e+08\n",
            "2021-10-31    1.424578e+08\n",
            "2021-11-30    1.524921e+08\n",
            "2021-12-31    2.484541e+08\n",
            "Freq: M, Name: Forecast, dtype: float64\n"
          ],
          "name": "stdout"
        },
        {
          "output_type": "display_data",
          "data": {
            "image/png": "[encoded data removed]",
            "text/plain": [
              "<Figure size 864x360 with 1 Axes>"
            ]
          },
          "metadata": {
            "tags": [],
            "needs_background": "light"
          }
        }
      ]
    }
  ]
}